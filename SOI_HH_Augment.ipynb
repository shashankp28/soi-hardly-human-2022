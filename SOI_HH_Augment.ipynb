{
 "cells": [
  {
   "cell_type": "markdown",
   "metadata": {},
   "source": [
    "#### Importing Libraries"
   ]
  },
  {
   "cell_type": "code",
   "execution_count": 52,
   "metadata": {},
   "outputs": [],
   "source": [
    "import os\n",
    "import random\n",
    "from PIL import Image\n",
    "from tqdm import notebook as nb\n",
    "from torchvision import transforms"
   ]
  },
  {
   "cell_type": "markdown",
   "metadata": {},
   "source": [
    "#### Defining augmentations"
   ]
  },
  {
   "cell_type": "code",
   "execution_count": 61,
   "metadata": {},
   "outputs": [],
   "source": [
    "transform = transforms.Compose([transforms.ToTensor(),\n",
    "                                transforms.RandomHorizontalFlip(),\n",
    "                                transforms.RandomRotation(20),\n",
    "                                transforms.Resize((48, 48)),\n",
    "                                transforms.ToPILImage()])"
   ]
  },
  {
   "cell_type": "markdown",
   "metadata": {},
   "source": [
    "#### Defining Over Sampling Limits"
   ]
  },
  {
   "cell_type": "code",
   "execution_count": 65,
   "metadata": {},
   "outputs": [],
   "source": [
    "max_img = 5000\n",
    "emots = [\"surprise\", \"angry\", \"fear\", \"disgust\", \"neutral\", \"sad\"]"
   ]
  },
  {
   "cell_type": "markdown",
   "metadata": {},
   "source": [
    "#### Oversampling by augmenting random images"
   ]
  },
  {
   "cell_type": "code",
   "execution_count": 78,
   "metadata": {},
   "outputs": [
    {
     "data": {
      "application/vnd.jupyter.widget-view+json": {
       "model_id": "30c2bb9efb834bfda8f4f553a7385656",
       "version_major": 2,
       "version_minor": 0
      },
      "text/plain": [
       "  0%|          | 0/1829 [00:00<?, ?it/s]"
      ]
     },
     "metadata": {},
     "output_type": "display_data"
    }
   ],
   "source": [
    "for emo in emots:\n",
    "    dir = \"data/train/\"\n",
    "    all_img = os.listdir(dir+emo)\n",
    "    pre_img = len(os.listdir(dir+emo))\n",
    "    i = 0\n",
    "    for i in nb.tqdm(range(max_img-pre_img)):\n",
    "        i+=1\n",
    "        img_p = random.choice(all_img)\n",
    "        img = Image.open(dir+\"/\"+img_p)\n",
    "        img = transform(img)\n",
    "        img.save(f'{dir+emo}/{emo}_aug_{i}.jpg', \"JPEG\", quality=100, optimize=True, progressive=True)"
   ]
  },
  {
   "cell_type": "markdown",
   "metadata": {},
   "source": [
    "#### Finally manually deleted images in `happy` folder to undersample it to 5000"
   ]
  }
 ],
 "metadata": {
  "kernelspec": {
   "display_name": "Python 3.10.5 ('.mldev')",
   "language": "python",
   "name": "python3"
  },
  "language_info": {
   "codemirror_mode": {
    "name": "ipython",
    "version": 3
   },
   "file_extension": ".py",
   "mimetype": "text/x-python",
   "name": "python",
   "nbconvert_exporter": "python",
   "pygments_lexer": "ipython3",
   "version": "3.10.5"
  },
  "orig_nbformat": 4,
  "vscode": {
   "interpreter": {
    "hash": "19266cbb19c7d437ed74b427797c233550faa7136e2336c345645d4b2d0a5c3c"
   }
  }
 },
 "nbformat": 4,
 "nbformat_minor": 2
}
