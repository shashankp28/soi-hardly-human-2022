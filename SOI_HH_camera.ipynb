{
 "cells": [
  {
   "cell_type": "code",
   "execution_count": 1,
   "metadata": {},
   "outputs": [],
   "source": [
    "import cv2\n",
    "import imutils\n",
    "from imutils.video import VideoStream\n",
    "from services.utils import EMO_COLOR_DICT, EMO_DICT, detect_emotion, model_loader"
   ]
  },
  {
   "cell_type": "code",
   "execution_count": 2,
   "metadata": {},
   "outputs": [],
   "source": [
    "prototxtPath = \"models/deploy.prototxt\"\n",
    "weightsPath = \"models/res10_300x300_ssd_iter_140000.caffemodel\"\n",
    "\n",
    "face_detector_paths = [prototxtPath, weightsPath]\n",
    "emotion_detectot_path = \"models/Z_resmasking_dropout1_rot30_2019Nov30_13.32\"\n",
    "\n",
    "faceNet, emotor = model_loader(face_detector_paths, emotion_detectot_path)"
   ]
  },
  {
   "cell_type": "code",
   "execution_count": 3,
   "metadata": {},
   "outputs": [],
   "source": [
    "vs = VideoStream(src=0).start()\n",
    "\n",
    "while True:\n",
    "    frame = vs.read()\n",
    "    frame = imutils.resize(frame, width=400)\n",
    "    (locs, preds) = detect_emotion(frame, faceNet, emotor)\n",
    "    for (box, pred) in zip(locs, preds):\n",
    "        (startX, startY, endX, endY) = box\n",
    "        index = preds[0].index(max(preds[0]))\n",
    "        cv2.putText(frame, EMO_DICT[index], (startX, startY - 10),\n",
    "                    cv2.FONT_HERSHEY_SIMPLEX, 0.45, EMO_COLOR_DICT[index], 2)\n",
    "        cv2.rectangle(frame, (startX, startY), (endX, endY), EMO_COLOR_DICT[index], 2)\n",
    "    cv2.imshow(\"Frame\", frame)\n",
    "    key = cv2.waitKey(1) & 0xFF\n",
    "    if key == ord(\"q\"):\n",
    "        break\n",
    "cv2.destroyAllWindows()\n",
    "vs.stop()"
   ]
  }
 ],
 "metadata": {
  "kernelspec": {
   "display_name": "Python 3.10.5 ('.mldev')",
   "language": "python",
   "name": "python3"
  },
  "language_info": {
   "codemirror_mode": {
    "name": "ipython",
    "version": 3
   },
   "file_extension": ".py",
   "mimetype": "text/x-python",
   "name": "python",
   "nbconvert_exporter": "python",
   "pygments_lexer": "ipython3",
   "version": "3.10.5"
  },
  "orig_nbformat": 4,
  "vscode": {
   "interpreter": {
    "hash": "19266cbb19c7d437ed74b427797c233550faa7136e2336c345645d4b2d0a5c3c"
   }
  }
 },
 "nbformat": 4,
 "nbformat_minor": 2
}
